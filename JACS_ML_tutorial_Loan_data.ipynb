{
 "cells": [
  {
   "cell_type": "code",
   "execution_count": 10,
   "metadata": {
    "collapsed": true,
    "nbpresent": {
     "id": "580475b8-3a14-4fbd-911d-3933246921af"
    },
    "slideshow": {
     "slide_type": "slide"
    }
   },
   "outputs": [],
   "source": [
    "import pandas as pd\n",
    "import numpy as np"
   ]
  },
  {
   "cell_type": "code",
   "execution_count": 2,
   "metadata": {
    "collapsed": true,
    "nbpresent": {
     "id": "e9b6bcb7-f7e2-484f-91ad-f91caa66a9dd"
    },
    "slideshow": {
     "slide_type": "subslide"
    }
   },
   "outputs": [],
   "source": [
    "df = pd.read_csv('loans_data_cleaned.csv')"
   ]
  },
  {
   "cell_type": "code",
   "execution_count": 3,
   "metadata": {
    "nbpresent": {
     "id": "fb9ee975-8ecc-4316-8c39-2a240a40069f"
    },
    "slideshow": {
     "slide_type": "subslide"
    }
   },
   "outputs": [
    {
     "data": {
      "text/html": [
       "<div>\n",
       "<style>\n",
       "    .dataframe thead tr:only-child th {\n",
       "        text-align: right;\n",
       "    }\n",
       "\n",
       "    .dataframe thead th {\n",
       "        text-align: left;\n",
       "    }\n",
       "\n",
       "    .dataframe tbody tr th {\n",
       "        vertical-align: top;\n",
       "    }\n",
       "</style>\n",
       "<table border=\"1\" class=\"dataframe\">\n",
       "  <thead>\n",
       "    <tr style=\"text-align: right;\">\n",
       "      <th></th>\n",
       "      <th>loan_amnt</th>\n",
       "      <th>funded_amnt</th>\n",
       "      <th>funded_amnt_inv</th>\n",
       "      <th>term</th>\n",
       "      <th>int_rate</th>\n",
       "      <th>installment</th>\n",
       "      <th>grade</th>\n",
       "      <th>sub_grade</th>\n",
       "      <th>home_ownership</th>\n",
       "      <th>annual_inc</th>\n",
       "      <th>...</th>\n",
       "      <th>total_rec_int</th>\n",
       "      <th>total_rec_late_fee</th>\n",
       "      <th>recoveries</th>\n",
       "      <th>last_pymnt_d</th>\n",
       "      <th>last_pymnt_amnt</th>\n",
       "      <th>last_credit_pull_d</th>\n",
       "      <th>tot_coll_amt</th>\n",
       "      <th>tot_cur_bal</th>\n",
       "      <th>total_rev_hi_lim</th>\n",
       "      <th>empl_exp</th>\n",
       "    </tr>\n",
       "  </thead>\n",
       "  <tbody>\n",
       "    <tr>\n",
       "      <th>0</th>\n",
       "      <td>12000.0</td>\n",
       "      <td>12000.0</td>\n",
       "      <td>12000.0</td>\n",
       "      <td>36 months</td>\n",
       "      <td>13.53</td>\n",
       "      <td>407.40</td>\n",
       "      <td>B</td>\n",
       "      <td>B5</td>\n",
       "      <td>RENT</td>\n",
       "      <td>40000.0</td>\n",
       "      <td>...</td>\n",
       "      <td>1359.78</td>\n",
       "      <td>0.0</td>\n",
       "      <td>0.0</td>\n",
       "      <td>Sep-2015</td>\n",
       "      <td>119.17</td>\n",
       "      <td>Jan-2016</td>\n",
       "      <td>15386.0</td>\n",
       "      <td>13605.0</td>\n",
       "      <td>8100.0</td>\n",
       "      <td>experienced</td>\n",
       "    </tr>\n",
       "    <tr>\n",
       "      <th>1</th>\n",
       "      <td>3000.0</td>\n",
       "      <td>3000.0</td>\n",
       "      <td>3000.0</td>\n",
       "      <td>36 months</td>\n",
       "      <td>12.85</td>\n",
       "      <td>100.87</td>\n",
       "      <td>B</td>\n",
       "      <td>B4</td>\n",
       "      <td>RENT</td>\n",
       "      <td>25000.0</td>\n",
       "      <td>...</td>\n",
       "      <td>181.53</td>\n",
       "      <td>0.0</td>\n",
       "      <td>0.0</td>\n",
       "      <td>Jul-2014</td>\n",
       "      <td>2677.23</td>\n",
       "      <td>Jan-2016</td>\n",
       "      <td>154.0</td>\n",
       "      <td>19530.0</td>\n",
       "      <td>5300.0</td>\n",
       "      <td>experienced</td>\n",
       "    </tr>\n",
       "    <tr>\n",
       "      <th>2</th>\n",
       "      <td>28000.0</td>\n",
       "      <td>28000.0</td>\n",
       "      <td>28000.0</td>\n",
       "      <td>36 months</td>\n",
       "      <td>7.62</td>\n",
       "      <td>872.52</td>\n",
       "      <td>A</td>\n",
       "      <td>A3</td>\n",
       "      <td>MORTGAGE</td>\n",
       "      <td>325000.0</td>\n",
       "      <td>...</td>\n",
       "      <td>1150.98</td>\n",
       "      <td>0.0</td>\n",
       "      <td>0.0</td>\n",
       "      <td>Aug-2014</td>\n",
       "      <td>23915.86</td>\n",
       "      <td>Aug-2014</td>\n",
       "      <td>0.0</td>\n",
       "      <td>799592.0</td>\n",
       "      <td>54200.0</td>\n",
       "      <td>intermed</td>\n",
       "    </tr>\n",
       "    <tr>\n",
       "      <th>3</th>\n",
       "      <td>24000.0</td>\n",
       "      <td>24000.0</td>\n",
       "      <td>24000.0</td>\n",
       "      <td>36 months</td>\n",
       "      <td>13.53</td>\n",
       "      <td>814.80</td>\n",
       "      <td>B</td>\n",
       "      <td>B5</td>\n",
       "      <td>MORTGAGE</td>\n",
       "      <td>100000.0</td>\n",
       "      <td>...</td>\n",
       "      <td>4652.21</td>\n",
       "      <td>0.0</td>\n",
       "      <td>0.0</td>\n",
       "      <td>Dec-2015</td>\n",
       "      <td>10726.61</td>\n",
       "      <td>Dec-2015</td>\n",
       "      <td>539.0</td>\n",
       "      <td>199834.0</td>\n",
       "      <td>28200.0</td>\n",
       "      <td>experienced</td>\n",
       "    </tr>\n",
       "    <tr>\n",
       "      <th>4</th>\n",
       "      <td>8000.0</td>\n",
       "      <td>8000.0</td>\n",
       "      <td>8000.0</td>\n",
       "      <td>36 months</td>\n",
       "      <td>10.99</td>\n",
       "      <td>261.88</td>\n",
       "      <td>B</td>\n",
       "      <td>B2</td>\n",
       "      <td>MORTGAGE</td>\n",
       "      <td>33000.0</td>\n",
       "      <td>...</td>\n",
       "      <td>1120.22</td>\n",
       "      <td>15.0</td>\n",
       "      <td>0.0</td>\n",
       "      <td>Oct-2015</td>\n",
       "      <td>276.88</td>\n",
       "      <td>Jan-2016</td>\n",
       "      <td>0.0</td>\n",
       "      <td>15949.0</td>\n",
       "      <td>20800.0</td>\n",
       "      <td>new</td>\n",
       "    </tr>\n",
       "  </tbody>\n",
       "</table>\n",
       "<p>5 rows × 39 columns</p>\n",
       "</div>"
      ],
      "text/plain": [
       "   loan_amnt  funded_amnt  funded_amnt_inv        term  int_rate  installment  \\\n",
       "0    12000.0      12000.0          12000.0   36 months     13.53       407.40   \n",
       "1     3000.0       3000.0           3000.0   36 months     12.85       100.87   \n",
       "2    28000.0      28000.0          28000.0   36 months      7.62       872.52   \n",
       "3    24000.0      24000.0          24000.0   36 months     13.53       814.80   \n",
       "4     8000.0       8000.0           8000.0   36 months     10.99       261.88   \n",
       "\n",
       "  grade sub_grade home_ownership  annual_inc     ...      total_rec_int  \\\n",
       "0     B        B5           RENT     40000.0     ...            1359.78   \n",
       "1     B        B4           RENT     25000.0     ...             181.53   \n",
       "2     A        A3       MORTGAGE    325000.0     ...            1150.98   \n",
       "3     B        B5       MORTGAGE    100000.0     ...            4652.21   \n",
       "4     B        B2       MORTGAGE     33000.0     ...            1120.22   \n",
       "\n",
       "  total_rec_late_fee recoveries last_pymnt_d  last_pymnt_amnt  \\\n",
       "0                0.0        0.0     Sep-2015           119.17   \n",
       "1                0.0        0.0     Jul-2014          2677.23   \n",
       "2                0.0        0.0     Aug-2014         23915.86   \n",
       "3                0.0        0.0     Dec-2015         10726.61   \n",
       "4               15.0        0.0     Oct-2015           276.88   \n",
       "\n",
       "   last_credit_pull_d tot_coll_amt  tot_cur_bal  total_rev_hi_lim     empl_exp  \n",
       "0            Jan-2016      15386.0      13605.0            8100.0  experienced  \n",
       "1            Jan-2016        154.0      19530.0            5300.0  experienced  \n",
       "2            Aug-2014          0.0     799592.0           54200.0     intermed  \n",
       "3            Dec-2015        539.0     199834.0           28200.0  experienced  \n",
       "4            Jan-2016          0.0      15949.0           20800.0          new  \n",
       "\n",
       "[5 rows x 39 columns]"
      ]
     },
     "execution_count": 3,
     "metadata": {},
     "output_type": "execute_result"
    }
   ],
   "source": [
    "df.head()"
   ]
  },
  {
   "cell_type": "code",
   "execution_count": 39,
   "metadata": {
    "nbpresent": {
     "id": "91213544-b8f3-4a79-8703-49f750669e1f"
    },
    "slideshow": {
     "slide_type": "subslide"
    }
   },
   "outputs": [
    {
     "name": "stdout",
     "output_type": "stream",
     "text": [
      "<class 'pandas.core.frame.DataFrame'>\n",
      "RangeIndex: 209541 entries, 0 to 209540\n",
      "Data columns (total 38 columns):\n",
      "loan_amnt              209541 non-null float64\n",
      "funded_amnt            209541 non-null float64\n",
      "funded_amnt_inv        209541 non-null float64\n",
      "term                   209541 non-null object\n",
      "int_rate               209541 non-null float64\n",
      "installment            209541 non-null float64\n",
      "grade                  209541 non-null object\n",
      "sub_grade              209541 non-null object\n",
      "home_ownership         209541 non-null object\n",
      "annual_inc             209541 non-null float64\n",
      "verification_status    209541 non-null object\n",
      "issue_d                209541 non-null object\n",
      "purpose                209541 non-null object\n",
      "dti                    209541 non-null float64\n",
      "delinq_2yrs            209541 non-null float64\n",
      "earliest_cr_line       209541 non-null object\n",
      "inq_last_6mths         209541 non-null float64\n",
      "open_acc               209541 non-null float64\n",
      "pub_rec                209541 non-null float64\n",
      "revol_bal              209541 non-null float64\n",
      "revol_util             209541 non-null float64\n",
      "total_acc              209541 non-null float64\n",
      "initial_list_status    209541 non-null object\n",
      "out_prncp              209541 non-null float64\n",
      "out_prncp_inv          209541 non-null float64\n",
      "total_pymnt            209541 non-null float64\n",
      "total_pymnt_inv        209541 non-null float64\n",
      "total_rec_prncp        209541 non-null float64\n",
      "total_rec_int          209541 non-null float64\n",
      "total_rec_late_fee     209541 non-null float64\n",
      "recoveries             209541 non-null float64\n",
      "last_pymnt_d           209541 non-null object\n",
      "last_pymnt_amnt        209541 non-null float64\n",
      "last_credit_pull_d     209541 non-null object\n",
      "tot_coll_amt           209541 non-null float64\n",
      "tot_cur_bal            209541 non-null float64\n",
      "total_rev_hi_lim       209541 non-null float64\n",
      "empl_exp               209541 non-null object\n",
      "dtypes: float64(26), object(12)\n",
      "memory usage: 60.7+ MB\n"
     ]
    }
   ],
   "source": [
    "df.info()"
   ]
  },
  {
   "cell_type": "code",
   "execution_count": 41,
   "metadata": {},
   "outputs": [
    {
     "data": {
      "text/plain": [
       "loan_amnt              0\n",
       "funded_amnt            0\n",
       "funded_amnt_inv        0\n",
       "term                   0\n",
       "int_rate               0\n",
       "installment            0\n",
       "grade                  0\n",
       "sub_grade              0\n",
       "home_ownership         0\n",
       "annual_inc             0\n",
       "verification_status    0\n",
       "issue_d                0\n",
       "purpose                0\n",
       "dti                    0\n",
       "delinq_2yrs            0\n",
       "earliest_cr_line       0\n",
       "inq_last_6mths         0\n",
       "open_acc               0\n",
       "pub_rec                0\n",
       "revol_bal              0\n",
       "revol_util             0\n",
       "total_acc              0\n",
       "initial_list_status    0\n",
       "out_prncp              0\n",
       "out_prncp_inv          0\n",
       "total_pymnt            0\n",
       "total_pymnt_inv        0\n",
       "total_rec_prncp        0\n",
       "total_rec_int          0\n",
       "total_rec_late_fee     0\n",
       "recoveries             0\n",
       "last_pymnt_d           0\n",
       "last_pymnt_amnt        0\n",
       "last_credit_pull_d     0\n",
       "tot_coll_amt           0\n",
       "tot_cur_bal            0\n",
       "total_rev_hi_lim       0\n",
       "empl_exp               0\n",
       "dtype: int64"
      ]
     },
     "execution_count": 41,
     "metadata": {},
     "output_type": "execute_result"
    }
   ],
   "source": [
    "df.isnull().sum()"
   ]
  },
  {
   "cell_type": "markdown",
   "metadata": {
    "nbpresent": {
     "id": "bf41629f-a180-4671-9f33-2a41c8f37fc2"
    },
    "slideshow": {
     "slide_type": "slide"
    }
   },
   "source": [
    "The goal of this exercise is to see whether we can predict someone will not pay off their loan or have become very delinquent on theirpayment. In this dataset it is in the 'loan_status' column. "
   ]
  },
  {
   "cell_type": "code",
   "execution_count": 6,
   "metadata": {
    "nbpresent": {
     "id": "8c2a7d9b-a128-4a92-a141-d9aa09adc376"
    },
    "slideshow": {
     "slide_type": "subslide"
    }
   },
   "outputs": [
    {
     "data": {
      "text/plain": [
       "array(['Fully Paid', 'Late (31-120 days)', 'Late (16-30 days)',\n",
       "       'Charged Off', 'In Grace Period', 'Default', 'Issued'], dtype=object)"
      ]
     },
     "execution_count": 6,
     "metadata": {},
     "output_type": "execute_result"
    }
   ],
   "source": [
    "df.loan_status.unique()"
   ]
  },
  {
   "cell_type": "markdown",
   "metadata": {
    "nbpresent": {
     "id": "23daec47-b6e3-4f5c-8c55-29e01f09b54f"
    },
    "slideshow": {
     "slide_type": "subslide"
    }
   },
   "source": [
    "The term **'Charged Off'** is the declaration by a creditor (usually a credit card account) that an amount of debt is unlikely to be collected. This occurs when a consumer becomes severely delinquent on a debt. Traditionally, creditors will make this declaration at the point of six months without payment. Tus we wil be using this as our Class 1 or the positive case."
   ]
  },
  {
   "cell_type": "code",
   "execution_count": 8,
   "metadata": {
    "nbpresent": {
     "id": "93daee42-9c0b-4f59-b394-8e8c90249d50"
    },
    "slideshow": {
     "slide_type": "subslide"
    }
   },
   "outputs": [],
   "source": [
    "#set 'Charged Off' to 1 and the rest to 0\n",
    "\n",
    "mask = (df.loan_status == 'Charged Off')\n",
    "df['target'] = 0\n",
    "df.loc[mask,'target'] = 1\n",
    "target = df['target'] # here we have defined the target or the y - values "
   ]
  },
  {
   "cell_type": "code",
   "execution_count": 15,
   "metadata": {
    "collapsed": true,
    "nbpresent": {
     "id": "7bbc1075-c4e6-443c-b650-ba97b6330327"
    },
    "slideshow": {
     "slide_type": "slide"
    }
   },
   "outputs": [],
   "source": [
    "#The features f the 'X-values' will be all columns minus the 'taget and loan_status' columns\n",
    "df = df.drop(['loan_status','target'],axis=1)"
   ]
  },
  {
   "cell_type": "code",
   "execution_count": 16,
   "metadata": {
    "nbpresent": {
     "id": "d4fa0a76-9230-4c56-8c75-8028fa73e7a4"
    },
    "slideshow": {
     "slide_type": "slide"
    }
   },
   "outputs": [
    {
     "name": "stdout",
     "output_type": "stream",
     "text": [
      "Shape of features = (209541, 38), and of y-values = (209541,)\n"
     ]
    }
   ],
   "source": [
    "print('Shape of features = {}, and of y-values = {}'.format(np.shape(df), np.shape(target)))"
   ]
  },
  {
   "cell_type": "markdown",
   "metadata": {
    "nbpresent": {
     "id": "43da8930-e8c8-4c54-9561-422af499fec5"
    },
    "slideshow": {
     "slide_type": "slide"
    }
   },
   "source": [
    "Before we couls start the ML part we need to take care of the categorical features."
   ]
  },
  {
   "cell_type": "code",
   "execution_count": 17,
   "metadata": {
    "nbpresent": {
     "id": "f4ab8cf3-73c7-4f31-a2a8-70a2ea7b10af"
    },
    "slideshow": {
     "slide_type": "slide"
    }
   },
   "outputs": [],
   "source": [
    "# next step let's seperate the categorical from number columns\n",
    "loan_categorical = df.select_dtypes(include=['object'], exclude=['float64','int64'])\n",
    "features = df.select_dtypes(include=['float64','int64'])"
   ]
  },
  {
   "cell_type": "code",
   "execution_count": 18,
   "metadata": {
    "nbpresent": {
     "id": "137e2596-2fd5-4fe2-a18d-9e96a7b97f94"
    },
    "slideshow": {
     "slide_type": "slide"
    }
   },
   "outputs": [
    {
     "name": "stdout",
     "output_type": "stream",
     "text": [
      "Numerical features: \n",
      "['loan_amnt', 'funded_amnt', 'funded_amnt_inv', 'int_rate', 'installment', 'annual_inc', 'dti', 'delinq_2yrs', 'inq_last_6mths', 'open_acc', 'pub_rec', 'revol_bal', 'revol_util', 'total_acc', 'out_prncp', 'out_prncp_inv', 'total_pymnt', 'total_pymnt_inv', 'total_rec_prncp', 'total_rec_int', 'total_rec_late_fee', 'recoveries', 'last_pymnt_amnt', 'tot_coll_amt', 'tot_cur_bal', 'total_rev_hi_lim']\n",
      "Categorical features: \n",
      "['term', 'grade', 'sub_grade', 'home_ownership', 'verification_status', 'issue_d', 'purpose', 'earliest_cr_line', 'initial_list_status', 'last_pymnt_d', 'last_credit_pull_d', 'empl_exp']\n"
     ]
    }
   ],
   "source": [
    "print('Numerical features: \\n{}'.format(list(features)))\n",
    "print('Categorical features: \\n{}'.format(list(loan_categorical)))"
   ]
  },
  {
   "cell_type": "markdown",
   "metadata": {
    "nbpresent": {
     "id": "6560a702-d857-4109-b747-5d8eb6fe0d7b"
    },
    "slideshow": {
     "slide_type": "slide"
    }
   },
   "source": [
    "One of the true power of ML and sklearn is the ability to use categorical data  to train the model. But to do we need to convert to numerical data"
   ]
  },
  {
   "cell_type": "code",
   "execution_count": 19,
   "metadata": {
    "collapsed": true,
    "nbpresent": {
     "id": "d2932952-6608-4007-b6a4-4460e34e95c6"
    },
    "slideshow": {
     "slide_type": "subslide"
    }
   },
   "outputs": [],
   "source": [
    "for col in list(loan_categorical):\n",
    "    dummy = pd.get_dummies(loan_categorical[col])\n",
    "    features = pd.concat([features,dummy],axis=1)"
   ]
  },
  {
   "cell_type": "code",
   "execution_count": 21,
   "metadata": {
    "nbpresent": {
     "id": "3262f7ca-31d0-4ca9-9c3b-0e79ef916291"
    },
    "slideshow": {
     "slide_type": "subslide"
    }
   },
   "outputs": [
    {
     "name": "stdout",
     "output_type": "stream",
     "text": [
      "Shape of features = (209541, 865), and of y-values = (209541,)\n"
     ]
    }
   ],
   "source": [
    "print('Shape of features = {}, and of y-values = {}'.format(np.shape(features), np.shape(target)))"
   ]
  },
  {
   "cell_type": "code",
   "execution_count": 23,
   "metadata": {
    "nbpresent": {
     "id": "00988ca0-9a38-48e8-8c20-f004892d27ba"
    },
    "scrolled": true,
    "slideshow": {
     "slide_type": "slide"
    }
   },
   "outputs": [
    {
     "data": {
      "text/html": [
       "<div>\n",
       "<style>\n",
       "    .dataframe thead tr:only-child th {\n",
       "        text-align: right;\n",
       "    }\n",
       "\n",
       "    .dataframe thead th {\n",
       "        text-align: left;\n",
       "    }\n",
       "\n",
       "    .dataframe tbody tr th {\n",
       "        vertical-align: top;\n",
       "    }\n",
       "</style>\n",
       "<table border=\"1\" class=\"dataframe\">\n",
       "  <thead>\n",
       "    <tr style=\"text-align: right;\">\n",
       "      <th></th>\n",
       "      <th>loan_amnt</th>\n",
       "      <th>funded_amnt</th>\n",
       "      <th>funded_amnt_inv</th>\n",
       "      <th>int_rate</th>\n",
       "      <th>installment</th>\n",
       "      <th>annual_inc</th>\n",
       "      <th>dti</th>\n",
       "      <th>delinq_2yrs</th>\n",
       "      <th>inq_last_6mths</th>\n",
       "      <th>open_acc</th>\n",
       "      <th>...</th>\n",
       "      <th>Sep-2012</th>\n",
       "      <th>Sep-2013</th>\n",
       "      <th>Sep-2014</th>\n",
       "      <th>Sep-2015</th>\n",
       "      <th>experienced</th>\n",
       "      <th>inexp</th>\n",
       "      <th>intermed</th>\n",
       "      <th>new</th>\n",
       "      <th>seasoned</th>\n",
       "      <th>unknown</th>\n",
       "    </tr>\n",
       "  </thead>\n",
       "  <tbody>\n",
       "    <tr>\n",
       "      <th>0</th>\n",
       "      <td>12000.0</td>\n",
       "      <td>12000.0</td>\n",
       "      <td>12000.0</td>\n",
       "      <td>13.53</td>\n",
       "      <td>407.40</td>\n",
       "      <td>40000.0</td>\n",
       "      <td>16.94</td>\n",
       "      <td>0.0</td>\n",
       "      <td>0.0</td>\n",
       "      <td>7.0</td>\n",
       "      <td>...</td>\n",
       "      <td>0</td>\n",
       "      <td>0</td>\n",
       "      <td>0</td>\n",
       "      <td>0</td>\n",
       "      <td>1</td>\n",
       "      <td>0</td>\n",
       "      <td>0</td>\n",
       "      <td>0</td>\n",
       "      <td>0</td>\n",
       "      <td>0</td>\n",
       "    </tr>\n",
       "    <tr>\n",
       "      <th>1</th>\n",
       "      <td>3000.0</td>\n",
       "      <td>3000.0</td>\n",
       "      <td>3000.0</td>\n",
       "      <td>12.85</td>\n",
       "      <td>100.87</td>\n",
       "      <td>25000.0</td>\n",
       "      <td>24.68</td>\n",
       "      <td>0.0</td>\n",
       "      <td>0.0</td>\n",
       "      <td>5.0</td>\n",
       "      <td>...</td>\n",
       "      <td>0</td>\n",
       "      <td>0</td>\n",
       "      <td>0</td>\n",
       "      <td>0</td>\n",
       "      <td>1</td>\n",
       "      <td>0</td>\n",
       "      <td>0</td>\n",
       "      <td>0</td>\n",
       "      <td>0</td>\n",
       "      <td>0</td>\n",
       "    </tr>\n",
       "    <tr>\n",
       "      <th>2</th>\n",
       "      <td>28000.0</td>\n",
       "      <td>28000.0</td>\n",
       "      <td>28000.0</td>\n",
       "      <td>7.62</td>\n",
       "      <td>872.52</td>\n",
       "      <td>325000.0</td>\n",
       "      <td>18.55</td>\n",
       "      <td>0.0</td>\n",
       "      <td>1.0</td>\n",
       "      <td>15.0</td>\n",
       "      <td>...</td>\n",
       "      <td>0</td>\n",
       "      <td>0</td>\n",
       "      <td>0</td>\n",
       "      <td>0</td>\n",
       "      <td>0</td>\n",
       "      <td>0</td>\n",
       "      <td>1</td>\n",
       "      <td>0</td>\n",
       "      <td>0</td>\n",
       "      <td>0</td>\n",
       "    </tr>\n",
       "    <tr>\n",
       "      <th>3</th>\n",
       "      <td>24000.0</td>\n",
       "      <td>24000.0</td>\n",
       "      <td>24000.0</td>\n",
       "      <td>13.53</td>\n",
       "      <td>814.80</td>\n",
       "      <td>100000.0</td>\n",
       "      <td>22.18</td>\n",
       "      <td>0.0</td>\n",
       "      <td>0.0</td>\n",
       "      <td>14.0</td>\n",
       "      <td>...</td>\n",
       "      <td>0</td>\n",
       "      <td>0</td>\n",
       "      <td>0</td>\n",
       "      <td>0</td>\n",
       "      <td>1</td>\n",
       "      <td>0</td>\n",
       "      <td>0</td>\n",
       "      <td>0</td>\n",
       "      <td>0</td>\n",
       "      <td>0</td>\n",
       "    </tr>\n",
       "    <tr>\n",
       "      <th>4</th>\n",
       "      <td>8000.0</td>\n",
       "      <td>8000.0</td>\n",
       "      <td>8000.0</td>\n",
       "      <td>10.99</td>\n",
       "      <td>261.88</td>\n",
       "      <td>33000.0</td>\n",
       "      <td>15.75</td>\n",
       "      <td>0.0</td>\n",
       "      <td>1.0</td>\n",
       "      <td>9.0</td>\n",
       "      <td>...</td>\n",
       "      <td>0</td>\n",
       "      <td>0</td>\n",
       "      <td>0</td>\n",
       "      <td>0</td>\n",
       "      <td>0</td>\n",
       "      <td>0</td>\n",
       "      <td>0</td>\n",
       "      <td>1</td>\n",
       "      <td>0</td>\n",
       "      <td>0</td>\n",
       "    </tr>\n",
       "  </tbody>\n",
       "</table>\n",
       "<p>5 rows × 865 columns</p>\n",
       "</div>"
      ],
      "text/plain": [
       "   loan_amnt  funded_amnt  funded_amnt_inv  int_rate  installment  annual_inc  \\\n",
       "0    12000.0      12000.0          12000.0     13.53       407.40     40000.0   \n",
       "1     3000.0       3000.0           3000.0     12.85       100.87     25000.0   \n",
       "2    28000.0      28000.0          28000.0      7.62       872.52    325000.0   \n",
       "3    24000.0      24000.0          24000.0     13.53       814.80    100000.0   \n",
       "4     8000.0       8000.0           8000.0     10.99       261.88     33000.0   \n",
       "\n",
       "     dti  delinq_2yrs  inq_last_6mths  open_acc   ...     Sep-2012  Sep-2013  \\\n",
       "0  16.94          0.0             0.0       7.0   ...            0         0   \n",
       "1  24.68          0.0             0.0       5.0   ...            0         0   \n",
       "2  18.55          0.0             1.0      15.0   ...            0         0   \n",
       "3  22.18          0.0             0.0      14.0   ...            0         0   \n",
       "4  15.75          0.0             1.0       9.0   ...            0         0   \n",
       "\n",
       "   Sep-2014  Sep-2015  experienced  inexp  intermed  new  seasoned  unknown  \n",
       "0         0         0            1      0         0    0         0        0  \n",
       "1         0         0            1      0         0    0         0        0  \n",
       "2         0         0            0      0         1    0         0        0  \n",
       "3         0         0            1      0         0    0         0        0  \n",
       "4         0         0            0      0         0    1         0        0  \n",
       "\n",
       "[5 rows x 865 columns]"
      ]
     },
     "execution_count": 23,
     "metadata": {},
     "output_type": "execute_result"
    }
   ],
   "source": [
    "features.head()"
   ]
  },
  {
   "cell_type": "markdown",
   "metadata": {
    "slideshow": {
     "slide_type": "skip"
    }
   },
   "source": [
    "We need to apply train test split on the data before we can apply ML. Why Train-test split our data? "
   ]
  },
  {
   "cell_type": "code",
   "execution_count": 25,
   "metadata": {
    "collapsed": true
   },
   "outputs": [],
   "source": [
    "from sklearn.model_selection import train_test_split\n",
    "X_train, X_test, y_train, y_test = train_test_split(features,target, random_state=0)"
   ]
  },
  {
   "cell_type": "code",
   "execution_count": 36,
   "metadata": {},
   "outputs": [
    {
     "name": "stdout",
     "output_type": "stream",
     "text": [
      "Shape of X_train = (157155, 865), and of y_train = (157155,)\n"
     ]
    }
   ],
   "source": [
    "print('Shape of X_train = {}, and of y_train = {}'.format(np.shape(X_train), np.shape(y_train)))"
   ]
  },
  {
   "cell_type": "code",
   "execution_count": 37,
   "metadata": {},
   "outputs": [
    {
     "name": "stdout",
     "output_type": "stream",
     "text": [
      "Shape of X_test = (52386, 865), and of y_test = (52386,)\n"
     ]
    }
   ],
   "source": [
    "print('Shape of X_test = {}, and of y_test = {}'.format(np.shape(X_test), np.shape(y_test)))"
   ]
  },
  {
   "cell_type": "markdown",
   "metadata": {},
   "source": [
    "Now we can train a couple of models to determine if someone is \"Charged Off\" on their loan. We will explore the following models:\n",
    "1. K nearest-Neighbours (KNN)\n",
    "2. Linear Support Vector Machines (SVM)\n",
    "3. Random Forests\n",
    "4. Gradient Boosted Decision Trees\n",
    "5. Logistic Regression"
   ]
  },
  {
   "cell_type": "code",
   "execution_count": 29,
   "metadata": {
    "collapsed": true
   },
   "outputs": [],
   "source": [
    "from sklearn.linear_model import LogisticRegression\n",
    "model = LogisticRegression().fit(X_train,y_train)\n",
    "y_pred_LR = model.predict(X_test)"
   ]
  },
  {
   "cell_type": "code",
   "execution_count": 32,
   "metadata": {},
   "outputs": [
    {
     "name": "stdout",
     "output_type": "stream",
     "text": [
      "Accuracy of the model = 0.9987\n"
     ]
    }
   ],
   "source": [
    "print('Accuracy of the model = {:.4f}'.format(model.score(X_test,y_test)))"
   ]
  },
  {
   "cell_type": "code",
   "execution_count": 28,
   "metadata": {
    "collapsed": true
   },
   "outputs": [],
   "source": [
    "# Some metrics to test the model relaibility\n",
    "from sklearn.metrics import confusion_matrix, classification_report"
   ]
  },
  {
   "cell_type": "code",
   "execution_count": 35,
   "metadata": {},
   "outputs": [
    {
     "name": "stdout",
     "output_type": "stream",
     "text": [
      "confusion matrix:\n",
      " [[43777     1]\n",
      " [   67  8541]]\n"
     ]
    }
   ],
   "source": [
    "print('confusion matrix:\\n {}'.format(confusion_matrix(y_test,y_pred_LR)))"
   ]
  },
  {
   "cell_type": "code",
   "execution_count": 38,
   "metadata": {},
   "outputs": [
    {
     "name": "stdout",
     "output_type": "stream",
     "text": [
      "Classification report: \n",
      "              precision    recall  f1-score   support\n",
      "\n",
      "          0       1.00      1.00      1.00     43778\n",
      "          1       1.00      0.99      1.00      8608\n",
      "\n",
      "avg / total       1.00      1.00      1.00     52386\n",
      "\n"
     ]
    }
   ],
   "source": [
    "print('Classification report: \\n {}'.format(classification_report(y_test,y_pred_LR)))"
   ]
  },
  {
   "cell_type": "code",
   "execution_count": 48,
   "metadata": {
    "collapsed": true
   },
   "outputs": [],
   "source": [
    "from sklearn.metrics import precision_recall_curve, average_precision_score"
   ]
  },
  {
   "cell_type": "code",
   "execution_count": 49,
   "metadata": {},
   "outputs": [],
   "source": [
    "precision, recall, thresholds = precision_recall_curve(y_test,model.predict_proba(X_test)[:, 1])\n",
    "AUC = average_precision_score(y_test, model.predict_proba(X_test)[:, 1])"
   ]
  },
  {
   "cell_type": "code",
   "execution_count": 54,
   "metadata": {},
   "outputs": [
    {
     "data": {
      "image/png": "[encoded data removed]",
      "text/plain": [
       "<matplotlib.figure.Figure at 0x7f8a4c360550>"
      ]
     },
     "metadata": {},
     "output_type": "display_data"
    }
   ],
   "source": [
    "import matplotlib.pyplot as plt\n",
    "%matplotlib inline\n",
    "plt.plot(precision, recall, label='AUC: {:.2f}'.format(AUC))\n",
    "plt.ylabel('Recall')\n",
    "plt.xlabel('Precision')\n",
    "plt.title('Precision-Recall Curve')\n",
    "plt.legend(loc='best')\n",
    "plt.savefig('Jacs_PR_curve.png')"
   ]
  }
 ],
 "metadata": {
  "kernelspec": {
   "display_name": "Python [conda root]",
   "language": "python",
   "name": "conda-root-py"
  },
  "language_info": {
   "codemirror_mode": {
    "name": "ipython",
    "version": 3
   },
   "file_extension": ".py",
   "mimetype": "text/x-python",
   "name": "python",
   "nbconvert_exporter": "python",
   "pygments_lexer": "ipython3",
   "version": "3.6.2"
  }
 },
 "nbformat": 4,
 "nbformat_minor": 2
}
